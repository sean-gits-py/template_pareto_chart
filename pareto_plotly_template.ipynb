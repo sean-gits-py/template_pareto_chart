{
 "cells": [
  {
   "cell_type": "code",
   "execution_count": 20,
   "metadata": {
    "collapsed": true
   },
   "outputs": [
    {
     "data": {
      "text/plain": "   error_ct  cumulative_percent\nA       506           61.037394\nB       120           75.512666\nC        86           85.886610\nD        34           89.987937\nE        20           92.400483\nF        18           94.571773\nG        15           96.381182\nH        11           97.708082\nI        10           98.914355\nJ         9          100.000000",
      "text/html": "<div>\n<style scoped>\n    .dataframe tbody tr th:only-of-type {\n        vertical-align: middle;\n    }\n\n    .dataframe tbody tr th {\n        vertical-align: top;\n    }\n\n    .dataframe thead th {\n        text-align: right;\n    }\n</style>\n<table border=\"1\" class=\"dataframe\">\n  <thead>\n    <tr style=\"text-align: right;\">\n      <th></th>\n      <th>error_ct</th>\n      <th>cumulative_percent</th>\n    </tr>\n  </thead>\n  <tbody>\n    <tr>\n      <th>A</th>\n      <td>506</td>\n      <td>61.037394</td>\n    </tr>\n    <tr>\n      <th>B</th>\n      <td>120</td>\n      <td>75.512666</td>\n    </tr>\n    <tr>\n      <th>C</th>\n      <td>86</td>\n      <td>85.886610</td>\n    </tr>\n    <tr>\n      <th>D</th>\n      <td>34</td>\n      <td>89.987937</td>\n    </tr>\n    <tr>\n      <th>E</th>\n      <td>20</td>\n      <td>92.400483</td>\n    </tr>\n    <tr>\n      <th>F</th>\n      <td>18</td>\n      <td>94.571773</td>\n    </tr>\n    <tr>\n      <th>G</th>\n      <td>15</td>\n      <td>96.381182</td>\n    </tr>\n    <tr>\n      <th>H</th>\n      <td>11</td>\n      <td>97.708082</td>\n    </tr>\n    <tr>\n      <th>I</th>\n      <td>10</td>\n      <td>98.914355</td>\n    </tr>\n    <tr>\n      <th>J</th>\n      <td>9</td>\n      <td>100.000000</td>\n    </tr>\n  </tbody>\n</table>\n</div>"
     },
     "execution_count": 20,
     "metadata": {},
     "output_type": "execute_result"
    }
   ],
   "source": [
    "import pandas as pd\n",
    "import plotly as plt\n",
    "\n",
    "### STEP 1 -> Generate Data ###\n",
    "\n",
    "#create dataframe\n",
    "df = pd.DataFrame({'error_ct': [506, 120, 86, 34, 20, 18, 15, 11, 10, 9]})\n",
    "\n",
    "df.index = ['A', 'B', 'C', 'D', 'E', 'F', 'G', 'H', 'I', 'J']\n",
    "\n",
    "#sort dataframe by count descending\n",
    "df = df.sort_values(by='error_ct', ascending=False)\n",
    "\n",
    "#create cumulative percentage column\n",
    "\n",
    "df['cumulative_percent'] = df['error_ct'].cumsum() / df['error_ct'].sum() * 100\n",
    "df\n"
   ]
  },
  {
   "cell_type": "code",
   "execution_count": 27,
   "outputs": [
    {
     "data": {
      "text/plain": "   error_ct  cumulative_percent  error_rank\nA       506           61.037394        10.0\nB       120           75.512666         9.0\nC        86           85.886610         8.0\nD        34           89.987937         7.0\nE        20           92.400483         6.0\nF        18           94.571773         5.0\nG        15           96.381182         4.0\nH        11           97.708082         3.0\nI        10           98.914355         2.0\nJ         9          100.000000         1.0",
      "text/html": "<div>\n<style scoped>\n    .dataframe tbody tr th:only-of-type {\n        vertical-align: middle;\n    }\n\n    .dataframe tbody tr th {\n        vertical-align: top;\n    }\n\n    .dataframe thead th {\n        text-align: right;\n    }\n</style>\n<table border=\"1\" class=\"dataframe\">\n  <thead>\n    <tr style=\"text-align: right;\">\n      <th></th>\n      <th>error_ct</th>\n      <th>cumulative_percent</th>\n      <th>error_rank</th>\n    </tr>\n  </thead>\n  <tbody>\n    <tr>\n      <th>A</th>\n      <td>506</td>\n      <td>61.037394</td>\n      <td>10.0</td>\n    </tr>\n    <tr>\n      <th>B</th>\n      <td>120</td>\n      <td>75.512666</td>\n      <td>9.0</td>\n    </tr>\n    <tr>\n      <th>C</th>\n      <td>86</td>\n      <td>85.886610</td>\n      <td>8.0</td>\n    </tr>\n    <tr>\n      <th>D</th>\n      <td>34</td>\n      <td>89.987937</td>\n      <td>7.0</td>\n    </tr>\n    <tr>\n      <th>E</th>\n      <td>20</td>\n      <td>92.400483</td>\n      <td>6.0</td>\n    </tr>\n    <tr>\n      <th>F</th>\n      <td>18</td>\n      <td>94.571773</td>\n      <td>5.0</td>\n    </tr>\n    <tr>\n      <th>G</th>\n      <td>15</td>\n      <td>96.381182</td>\n      <td>4.0</td>\n    </tr>\n    <tr>\n      <th>H</th>\n      <td>11</td>\n      <td>97.708082</td>\n      <td>3.0</td>\n    </tr>\n    <tr>\n      <th>I</th>\n      <td>10</td>\n      <td>98.914355</td>\n      <td>2.0</td>\n    </tr>\n    <tr>\n      <th>J</th>\n      <td>9</td>\n      <td>100.000000</td>\n      <td>1.0</td>\n    </tr>\n  </tbody>\n</table>\n</div>"
     },
     "execution_count": 27,
     "metadata": {},
     "output_type": "execute_result"
    }
   ],
   "source": [
    "# create rank column\n",
    "df['error_rank'] = df['error_ct'].rank(method='max')\n",
    "\n",
    "df"
   ],
   "metadata": {
    "collapsed": false
   }
  },
  {
   "cell_type": "code",
   "execution_count": null,
   "outputs": [],
   "source": [],
   "metadata": {
    "collapsed": false
   }
  }
 ],
 "metadata": {
  "kernelspec": {
   "display_name": "Python 3",
   "language": "python",
   "name": "python3"
  },
  "language_info": {
   "codemirror_mode": {
    "name": "ipython",
    "version": 2
   },
   "file_extension": ".py",
   "mimetype": "text/x-python",
   "name": "python",
   "nbconvert_exporter": "python",
   "pygments_lexer": "ipython2",
   "version": "2.7.6"
  }
 },
 "nbformat": 4,
 "nbformat_minor": 0
}
