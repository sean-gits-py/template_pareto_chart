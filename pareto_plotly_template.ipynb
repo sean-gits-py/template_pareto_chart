{
 "cells": [
  {
   "cell_type": "code",
   "execution_count": null,
   "metadata": {
    "collapsed": true
   },
   "outputs": [],
   "source": [
    "import pandas as pd\n",
    "import plotly as plt\n",
    "\n",
    "### STEP 1 -> Generate Data ###\n",
    "\n",
    "#create dataframe\n",
    "df = pd.DataFrame({'error_ct': [506, 120, 86, 34, 20, 18, 15, 11, 10, 9]})\n",
    "df.index = ['A', 'B', 'C', 'D', 'E', 'F', 'G', 'H', 'I', 'J']\n",
    "\n",
    "#sort dataframe by count descending\n",
    "df = df.sort_values(by='error_ct', ascending=False)\n",
    "\n",
    "#create cumulative percentage column\n",
    "\n",
    "df['cumulative_percent'] = df['error_ct'].cumsum() / df['error_ct'].sum() * 100\n",
    "df"
   ]
  },
  {
   "cell_type": "code",
   "execution_count": null,
   "outputs": [],
   "source": [
    "# create rank column\n"
   ],
   "metadata": {
    "collapsed": false
   }
  }
 ],
 "metadata": {
  "kernelspec": {
   "display_name": "Python 3",
   "language": "python",
   "name": "python3"
  },
  "language_info": {
   "codemirror_mode": {
    "name": "ipython",
    "version": 2
   },
   "file_extension": ".py",
   "mimetype": "text/x-python",
   "name": "python",
   "nbconvert_exporter": "python",
   "pygments_lexer": "ipython2",
   "version": "2.7.6"
  }
 },
 "nbformat": 4,
 "nbformat_minor": 0
}
